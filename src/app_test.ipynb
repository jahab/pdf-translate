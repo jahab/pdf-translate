{
 "cells": [
  {
   "cell_type": "code",
   "execution_count": 4,
   "metadata": {},
   "outputs": [
    {
     "name": "stdout",
     "output_type": "stream",
     "text": [
      "Collecting langchain-community\n",
      "  Downloading langchain_community-0.3.8-py3-none-any.whl (2.4 MB)\n",
      "\u001b[K     |████████████████████████████████| 2.4 MB 8.0 MB/s eta 0:00:01\n",
      "\u001b[?25hRequirement already satisfied: requests<3,>=2 in /home/jafar/anaconda3/lib/python3.9/site-packages (from langchain-community) (2.31.0)\n",
      "Requirement already satisfied: PyYAML>=5.3 in /home/jafar/anaconda3/lib/python3.9/site-packages (from langchain-community) (6.0)\n",
      "Collecting httpx-sse<0.5.0,>=0.4.0\n",
      "  Downloading httpx_sse-0.4.0-py3-none-any.whl (7.8 kB)\n",
      "Requirement already satisfied: aiohttp<4.0.0,>=3.8.3 in /home/jafar/anaconda3/lib/python3.9/site-packages (from langchain-community) (3.8.5)\n",
      "Requirement already satisfied: dataclasses-json<0.7,>=0.5.7 in /home/jafar/anaconda3/lib/python3.9/site-packages (from langchain-community) (0.5.7)\n",
      "Collecting langsmith<0.2.0,>=0.1.125\n",
      "  Downloading langsmith-0.1.145-py3-none-any.whl (310 kB)\n",
      "\u001b[K     |████████████████████████████████| 310 kB 27.8 MB/s eta 0:00:01\n",
      "\u001b[?25hRequirement already satisfied: SQLAlchemy<2.0.36,>=1.4 in /home/jafar/anaconda3/lib/python3.9/site-packages (from langchain-community) (1.4.32)\n",
      "Requirement already satisfied: numpy<2,>=1.22.4 in /home/jafar/anaconda3/lib/python3.9/site-packages (from langchain-community) (1.25.2)\n",
      "Collecting langchain-core<0.4.0,>=0.3.21\n",
      "  Downloading langchain_core-0.3.21-py3-none-any.whl (409 kB)\n",
      "\u001b[K     |████████████████████████████████| 409 kB 16.6 MB/s eta 0:00:01\n",
      "\u001b[?25hCollecting pydantic-settings<3.0.0,>=2.4.0\n",
      "  Downloading pydantic_settings-2.6.1-py3-none-any.whl (28 kB)\n",
      "Requirement already satisfied: tenacity!=8.4.0,<10,>=8.1.0 in /home/jafar/anaconda3/lib/python3.9/site-packages (from langchain-community) (8.2.2)\n",
      "Collecting langchain<0.4.0,>=0.3.8\n",
      "  Downloading langchain-0.3.8-py3-none-any.whl (1.0 MB)\n",
      "\u001b[K     |████████████████████████████████| 1.0 MB 27.1 MB/s eta 0:00:01\n",
      "\u001b[?25hRequirement already satisfied: charset-normalizer<4.0,>=2.0 in /home/jafar/anaconda3/lib/python3.9/site-packages (from aiohttp<4.0.0,>=3.8.3->langchain-community) (2.0.4)\n",
      "Requirement already satisfied: async-timeout<5.0,>=4.0.0a3 in /home/jafar/anaconda3/lib/python3.9/site-packages (from aiohttp<4.0.0,>=3.8.3->langchain-community) (4.0.1)\n",
      "Requirement already satisfied: attrs>=17.3.0 in /home/jafar/anaconda3/lib/python3.9/site-packages (from aiohttp<4.0.0,>=3.8.3->langchain-community) (21.4.0)\n",
      "Requirement already satisfied: aiosignal>=1.1.2 in /home/jafar/anaconda3/lib/python3.9/site-packages (from aiohttp<4.0.0,>=3.8.3->langchain-community) (1.2.0)\n",
      "Requirement already satisfied: yarl<2.0,>=1.0 in /home/jafar/anaconda3/lib/python3.9/site-packages (from aiohttp<4.0.0,>=3.8.3->langchain-community) (1.9.4)\n",
      "Requirement already satisfied: frozenlist>=1.1.1 in /home/jafar/anaconda3/lib/python3.9/site-packages (from aiohttp<4.0.0,>=3.8.3->langchain-community) (1.2.0)\n",
      "Requirement already satisfied: multidict<7.0,>=4.5 in /home/jafar/anaconda3/lib/python3.9/site-packages (from aiohttp<4.0.0,>=3.8.3->langchain-community) (5.2.0)\n",
      "Requirement already satisfied: typing-extensions>=3.6.5 in /home/jafar/anaconda3/lib/python3.9/site-packages (from async-timeout<5.0,>=4.0.0a3->aiohttp<4.0.0,>=3.8.3->langchain-community) (4.6.3)\n",
      "Requirement already satisfied: marshmallow<4.0.0,>=3.3.0 in /home/jafar/anaconda3/lib/python3.9/site-packages (from dataclasses-json<0.7,>=0.5.7->langchain-community) (3.19.0)\n",
      "Requirement already satisfied: marshmallow-enum<2.0.0,>=1.5.1 in /home/jafar/anaconda3/lib/python3.9/site-packages (from dataclasses-json<0.7,>=0.5.7->langchain-community) (1.5.1)\n",
      "Requirement already satisfied: typing-inspect>=0.4.0 in /home/jafar/anaconda3/lib/python3.9/site-packages (from dataclasses-json<0.7,>=0.5.7->langchain-community) (0.8.0)\n",
      "Collecting pydantic<3.0.0,>=2.7.4\n",
      "  Downloading pydantic-2.10.1-py3-none-any.whl (455 kB)\n",
      "\u001b[K     |████████████████████████████████| 455 kB 24.2 MB/s eta 0:00:01\n",
      "\u001b[?25hCollecting langchain-text-splitters<0.4.0,>=0.3.0\n",
      "  Downloading langchain_text_splitters-0.3.2-py3-none-any.whl (25 kB)\n",
      "Collecting typing-extensions>=3.6.5\n",
      "  Downloading typing_extensions-4.12.2-py3-none-any.whl (37 kB)\n",
      "Collecting packaging<25,>=23.2\n",
      "  Downloading packaging-24.2-py3-none-any.whl (65 kB)\n",
      "\u001b[K     |████████████████████████████████| 65 kB 9.8 MB/s  eta 0:00:01\n",
      "\u001b[?25hCollecting jsonpatch<2.0,>=1.33\n",
      "  Downloading jsonpatch-1.33-py2.py3-none-any.whl (12 kB)\n",
      "Collecting jsonpointer>=1.9\n",
      "  Downloading jsonpointer-3.0.0-py2.py3-none-any.whl (7.6 kB)\n",
      "Collecting httpx<1,>=0.23.0\n",
      "  Downloading httpx-0.27.2-py3-none-any.whl (76 kB)\n",
      "\u001b[K     |████████████████████████████████| 76 kB 9.6 MB/s  eta 0:00:01\n",
      "\u001b[?25hCollecting requests-toolbelt<2.0.0,>=1.0.0\n",
      "  Downloading requests_toolbelt-1.0.0-py2.py3-none-any.whl (54 kB)\n",
      "\u001b[K     |████████████████████████████████| 54 kB 6.7 MB/s  eta 0:00:01\n",
      "\u001b[?25hCollecting orjson<4.0.0,>=3.9.14\n",
      "  Downloading orjson-3.10.12-cp39-cp39-manylinux_2_17_x86_64.manylinux2014_x86_64.whl (131 kB)\n",
      "\u001b[K     |████████████████████████████████| 131 kB 12.9 MB/s eta 0:00:01\n",
      "\u001b[?25hCollecting httpcore==1.*\n",
      "  Downloading httpcore-1.0.7-py3-none-any.whl (78 kB)\n",
      "\u001b[K     |████████████████████████████████| 78 kB 14.5 MB/s eta 0:00:01\n",
      "\u001b[?25hRequirement already satisfied: certifi in /home/jafar/anaconda3/lib/python3.9/site-packages (from httpx<1,>=0.23.0->langsmith<0.2.0,>=0.1.125->langchain-community) (2021.10.8)\n",
      "Requirement already satisfied: idna in /home/jafar/anaconda3/lib/python3.9/site-packages (from httpx<1,>=0.23.0->langsmith<0.2.0,>=0.1.125->langchain-community) (3.3)\n",
      "Requirement already satisfied: sniffio in /home/jafar/anaconda3/lib/python3.9/site-packages (from httpx<1,>=0.23.0->langsmith<0.2.0,>=0.1.125->langchain-community) (1.2.0)\n",
      "Requirement already satisfied: anyio in /home/jafar/anaconda3/lib/python3.9/site-packages (from httpx<1,>=0.23.0->langsmith<0.2.0,>=0.1.125->langchain-community) (3.5.0)\n",
      "Requirement already satisfied: h11<0.15,>=0.13 in /home/jafar/anaconda3/lib/python3.9/site-packages (from httpcore==1.*->httpx<1,>=0.23.0->langsmith<0.2.0,>=0.1.125->langchain-community) (0.14.0)\n",
      "Collecting annotated-types>=0.6.0\n",
      "  Downloading annotated_types-0.7.0-py3-none-any.whl (13 kB)\n",
      "Collecting pydantic-core==2.27.1\n",
      "  Downloading pydantic_core-2.27.1-cp39-cp39-manylinux_2_17_x86_64.manylinux2014_x86_64.whl (2.1 MB)\n",
      "\u001b[K     |████████████████████████████████| 2.1 MB 21.1 MB/s eta 0:00:01\n",
      "\u001b[?25hRequirement already satisfied: python-dotenv>=0.21.0 in /home/jafar/anaconda3/lib/python3.9/site-packages (from pydantic-settings<3.0.0,>=2.4.0->langchain-community) (1.0.0)\n",
      "Requirement already satisfied: urllib3<3,>=1.21.1 in /home/jafar/anaconda3/lib/python3.9/site-packages (from requests<3,>=2->langchain-community) (1.26.15)\n",
      "Requirement already satisfied: greenlet!=0.4.17 in /home/jafar/anaconda3/lib/python3.9/site-packages (from SQLAlchemy<2.0.36,>=1.4->langchain-community) (2.0.2)\n",
      "Requirement already satisfied: mypy-extensions>=0.3.0 in /home/jafar/anaconda3/lib/python3.9/site-packages (from typing-inspect>=0.4.0->dataclasses-json<0.7,>=0.5.7->langchain-community) (0.4.3)\n",
      "\u001b[33mWARNING: Error parsing requirements for torch: [Errno 2] No such file or directory: '/home/jafar/anaconda3/lib/python3.9/site-packages/torch-1.12.1.dist-info/METADATA'\u001b[0m\n",
      "Installing collected packages: typing-extensions, pydantic-core, httpcore, annotated-types, requests-toolbelt, pydantic, orjson, jsonpointer, httpx, packaging, langsmith, jsonpatch, langchain-core, langchain-text-splitters, pydantic-settings, langchain, httpx-sse, langchain-community\n",
      "  Attempting uninstall: typing-extensions\n",
      "    Found existing installation: typing-extensions 4.6.3\n",
      "    Uninstalling typing-extensions-4.6.3:\n",
      "      Successfully uninstalled typing-extensions-4.6.3\n",
      "  Attempting uninstall: pydantic\n",
      "    Found existing installation: pydantic 1.10.2\n",
      "    Uninstalling pydantic-1.10.2:\n",
      "      Successfully uninstalled pydantic-1.10.2\n",
      "  Attempting uninstall: packaging\n",
      "    Found existing installation: packaging 21.3\n",
      "    Uninstalling packaging-21.3:\n",
      "      Successfully uninstalled packaging-21.3\n",
      "  Attempting uninstall: langchain\n",
      "    Found existing installation: langchain 0.0.118\n",
      "    Uninstalling langchain-0.0.118:\n",
      "      Successfully uninstalled langchain-0.0.118\n",
      "\u001b[31mERROR: pip's dependency resolver does not currently take into account all the packages that are installed. This behaviour is the source of the following dependency conflicts.\n",
      "torchvision 0.13.1 requires torch==1.12.1, which is not installed.\n",
      "sentence-transformers 2.2.2 requires torch>=1.6.0, which is not installed.\n",
      "thinc 8.1.5 requires pydantic!=1.8,!=1.8.1,<1.11.0,>=1.7.4, but you have pydantic 2.10.1 which is incompatible.\n",
      "streamlit 1.24.1 requires packaging<24,>=14.1, but you have packaging 24.2 which is incompatible.\n",
      "spacy 3.4.3 requires pydantic!=1.8,!=1.8.1,<1.11.0,>=1.7.4, but you have pydantic 2.10.1 which is incompatible.\n",
      "fastapi 0.96.0 requires pydantic!=1.7,!=1.7.1,!=1.7.2,!=1.7.3,!=1.8,!=1.8.1,<2.0.0,>=1.6.2, but you have pydantic 2.10.1 which is incompatible.\n",
      "farm-haystack 1.16.1 requires protobuf<=3.20.2, but you have protobuf 3.20.3 which is incompatible.\n",
      "confection 0.0.3 requires pydantic!=1.8,!=1.8.1,<1.11.0,>=1.7.4, but you have pydantic 2.10.1 which is incompatible.\u001b[0m\n",
      "Successfully installed annotated-types-0.7.0 httpcore-1.0.7 httpx-0.27.2 httpx-sse-0.4.0 jsonpatch-1.33 jsonpointer-3.0.0 langchain-0.3.8 langchain-community-0.3.8 langchain-core-0.3.21 langchain-text-splitters-0.3.2 langsmith-0.1.145 orjson-3.10.12 packaging-24.2 pydantic-2.10.1 pydantic-core-2.27.1 pydantic-settings-2.6.1 requests-toolbelt-1.0.0 typing-extensions-4.12.2\n"
     ]
    }
   ],
   "source": [
    "!pip install -U langchain-community"
   ]
  },
  {
   "cell_type": "code",
   "execution_count": 1,
   "metadata": {},
   "outputs": [],
   "source": [
    "import getpass\n",
    "import os\n",
    "from PyPDF2 import PdfReader\n",
    "os.environ[\"LANGCHAIN_TRACING_V2\"] = \"true\"\n",
    "os.environ[\"LANGCHAIN_API_KEY\"] = \"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\""
   ]
  },
  {
   "cell_type": "code",
   "execution_count": 2,
   "metadata": {},
   "outputs": [],
   "source": [
    "file_path = \"/home/jafar/Desktop/ipcamera_fw/docs/zh/Rockchip_User_Guide_SDK_Application_And_Synchronization_CN.pdf\"\n"
   ]
  },
  {
   "cell_type": "code",
   "execution_count": 7,
   "metadata": {},
   "outputs": [],
   "source": [
    "from langchain_community.document_loaders import PyPDFLoader\n",
    "loader = PyPDFLoader(file_path)\n",
    "pages = []\n",
    "async for page in loader.alazy_load():\n",
    "    pages.append(page)"
   ]
  },
  {
   "cell_type": "code",
   "execution_count": 8,
   "metadata": {},
   "outputs": [
    {
     "data": {
      "text/plain": [
       "Document(metadata={'source': '/home/jafar/Desktop/ipcamera_fw/docs/zh/Rockchip_User_Guide_SDK_Application_And_Synchronization_CN.pdf', 'page': 30}, page_content='Rockchip SDK 申请及同步指南                                                      3  文档与工具 \\nCopyright 2020 @Fuzhou Rockchip Electronics Co., Ltd. 4-1 \\n4 文档与工具 \\n我们 Rockchip 官方提供给客户的文档和工具，是与对应的 SDK 一起释放给您的。现在主要\\n有 Android OS 和Linux OS 两套 SDK 版本，分别存放的文档和工具的路径有点差异。 \\n4.1 Android SDK \\n如下是 Android OS SDK 存放文档和工具的路径： \\n存放文档路径是：SDK 根目录下的RKDocs 文件夹中； \\n存放工具路径是：SDK 根目录下的RKTools 文件夹中。 \\n \\n4.2 Linux SDK \\n如下是 Linux OS SDK 存放文档和工具的路径： \\n存放文档路径是：SDK 根目录下的docs 文件夹中； \\n存放工具路径是：SDK 根目录下的tools 文件夹中。 \\n \\n注：我们的文档和工具时跟随代码更新而同步更新到对应的SDK 版本里，这里不同的 SDK\\n版本工具和文档版本不一致。所以在您们开发过程中一定要使用对应的SDK 中的工具，如果代码\\n和工具的版本不是一一对应，可能会出现固件下载失败或者是系统启动失败等异常现象。 \\n ')"
      ]
     },
     "execution_count": 8,
     "metadata": {},
     "output_type": "execute_result"
    }
   ],
   "source": [
    "len(pages)   \n",
    "pages[30]"
   ]
  },
  {
   "cell_type": "code",
   "execution_count": 42,
   "metadata": {},
   "outputs": [],
   "source": [
    "import pypdf\n",
    "pdf_reader = pypdf.PdfReader(file_path)"
   ]
  },
  {
   "cell_type": "code",
   "execution_count": 43,
   "metadata": {},
   "outputs": [],
   "source": [
    "xx = pdf_reader.get_page(30)[\"/Parent\"][\"/Kids\"][0]"
   ]
  },
  {
   "cell_type": "code",
   "execution_count": 45,
   "metadata": {},
   "outputs": [
    {
     "data": {
      "text/plain": [
       "RectangleObject([0, 0, 595.2, 841.92])"
      ]
     },
     "execution_count": 45,
     "metadata": {},
     "output_type": "execute_result"
    }
   ],
   "source": [
    "pdf_reader.get_page(30).mediabox"
   ]
  },
  {
   "cell_type": "code",
   "execution_count": 8,
   "metadata": {},
   "outputs": [
    {
     "data": {
      "text/plain": [
       "'Rockchip SDK           申请及同步指南                                                                                                                       3  文档与工具\\n                                                                                      4              文档与工具\\n\\n                      我们      Rockchip官方提供给                       客户的        文档      和工具        ，是与        对应的         SDK一起释放给                   您   的。      现在     主要\\n              有    Android OS            和    Linux OS         两套       SDK      版本     ，   分别     存放      的  文档和        工具      的  路径      有点     差异。\\n4.1 Android SDK\\n                      如下是         Android OS SDK                 存放文档和工具                   的路径：\\n                         存放      文档路径是：                SDK      根目录下的              RKDocs         文件夹中；\\n                         存放      工具路径是：                SDK      根目录下的              RKTools         文件夹中           。\\n\\n4.2 Linux SDK\\n                      如下是         Linux OS SDK               存放文档和工具的路径：\\n                         存放文档路径是                   ：   SDK      根目录下的              docs      文件夹中；\\n                         存放工具路径是                   ：   SDK      根目录下的              tools     文件夹中。\\n\\n                      注   ：  我们      的   文档和工具             时   跟随代码           更新     而同步更新             到对应         的   SDK      版本     里   ，   这里     不同的         SDK\\n              版本      工具和文档             版本不一致              。所以        在   您们     开发过程中              一定要使用对应的                      SDK      中的工具，              如果     代码\\n              和工具         的  版本      不是一一对应                ，可能        会   出现固件           下载     失败     或者是         系统启动失败等异常现象。\\n\\n\\n\\n\\n\\n\\n\\n\\n\\n\\n\\n\\n\\n\\n\\n\\n\\n\\n\\n\\n\\n\\n\\n\\n\\n\\n\\n\\n\\n\\n\\n\\n\\n\\n\\n\\nCopyright 2020 @Fuzhou Rockchip Electronics Co., Ltd.                                                                                                                     4-1'"
      ]
     },
     "execution_count": 8,
     "metadata": {},
     "output_type": "execute_result"
    }
   ],
   "source": [
    "pdf_reader.pages[30].extract_text(extraction_mode=\"layout\",layout_mode_space_vertically=True, layout_mode_scale_weight=2)"
   ]
  },
  {
   "cell_type": "code",
   "execution_count": 9,
   "metadata": {},
   "outputs": [
    {
     "name": "stdout",
     "output_type": "stream",
     "text": [
      "Requirement already satisfied: pdfminer.six in /home/jafar/anaconda3/lib/python3.9/site-packages (20220524)\n",
      "Requirement already satisfied: charset-normalizer>=2.0.0 in /home/jafar/anaconda3/lib/python3.9/site-packages (from pdfminer.six) (2.0.4)\n",
      "Requirement already satisfied: cryptography>=36.0.0 in /home/jafar/anaconda3/lib/python3.9/site-packages (from pdfminer.six) (38.0.4)\n",
      "Requirement already satisfied: cffi>=1.12 in /home/jafar/anaconda3/lib/python3.9/site-packages (from cryptography>=36.0.0->pdfminer.six) (1.15.0)\n",
      "Requirement already satisfied: pycparser in /home/jafar/anaconda3/lib/python3.9/site-packages (from cffi>=1.12->cryptography>=36.0.0->pdfminer.six) (2.21)\n",
      "\u001b[33mWARNING: Error parsing requirements for torch: [Errno 2] No such file or directory: '/home/jafar/anaconda3/lib/python3.9/site-packages/torch-1.12.1.dist-info/METADATA'\u001b[0m\n"
     ]
    }
   ],
   "source": [
    "!pip install pdfminer.six"
   ]
  },
  {
   "cell_type": "code",
   "execution_count": 10,
   "metadata": {},
   "outputs": [
    {
     "name": "stdout",
     "output_type": "stream",
     "text": [
      "Collecting googletrans\n",
      "  Downloading googletrans-3.0.0.tar.gz (17 kB)\n",
      "Collecting httpx==0.13.3\n",
      "  Downloading httpx-0.13.3-py3-none-any.whl (55 kB)\n",
      "\u001b[K     |████████████████████████████████| 55 kB 4.9 MB/s eta 0:00:01\n",
      "\u001b[?25hCollecting chardet==3.*\n",
      "  Downloading chardet-3.0.4-py2.py3-none-any.whl (133 kB)\n",
      "\u001b[K     |████████████████████████████████| 133 kB 13.4 MB/s eta 0:00:01\n",
      "\u001b[?25hCollecting rfc3986<2,>=1.3\n",
      "  Downloading rfc3986-1.5.0-py2.py3-none-any.whl (31 kB)\n",
      "Requirement already satisfied: certifi in /home/jafar/anaconda3/lib/python3.9/site-packages (from httpx==0.13.3->googletrans) (2021.10.8)\n",
      "Requirement already satisfied: sniffio in /home/jafar/anaconda3/lib/python3.9/site-packages (from httpx==0.13.3->googletrans) (1.2.0)\n",
      "Collecting hstspreload\n",
      "  Downloading hstspreload-2024.11.1-py3-none-any.whl (1.2 MB)\n",
      "\u001b[K     |████████████████████████████████| 1.2 MB 5.6 MB/s eta 0:00:01\n",
      "\u001b[?25hCollecting httpcore==0.9.*\n",
      "  Downloading httpcore-0.9.1-py3-none-any.whl (42 kB)\n",
      "\u001b[K     |████████████████████████████████| 42 kB 4.1 MB/s  eta 0:00:01\n",
      "\u001b[?25hCollecting idna==2.*\n",
      "  Downloading idna-2.10-py2.py3-none-any.whl (58 kB)\n",
      "\u001b[K     |████████████████████████████████| 58 kB 17.7 MB/s eta 0:00:01\n",
      "\u001b[?25hCollecting h2==3.*\n",
      "  Downloading h2-3.2.0-py2.py3-none-any.whl (65 kB)\n",
      "\u001b[K     |████████████████████████████████| 65 kB 10.9 MB/s eta 0:00:01\n",
      "\u001b[?25hCollecting h11<0.10,>=0.8\n",
      "  Downloading h11-0.9.0-py2.py3-none-any.whl (53 kB)\n",
      "\u001b[K     |████████████████████████████████| 53 kB 4.1 MB/s  eta 0:00:01\n",
      "\u001b[?25hCollecting hyperframe<6,>=5.2.0\n",
      "  Downloading hyperframe-5.2.0-py2.py3-none-any.whl (12 kB)\n",
      "Collecting hpack<4,>=3.0\n",
      "  Downloading hpack-3.0.0-py2.py3-none-any.whl (38 kB)\n",
      "Building wheels for collected packages: googletrans\n",
      "  Building wheel for googletrans (setup.py) ... \u001b[?25ldone\n",
      "\u001b[?25h  Created wheel for googletrans: filename=googletrans-3.0.0-py3-none-any.whl size=15721 sha256=ccaf133a7332b1720f4c08ac56c1cc6e172ef44fc323171bda9285526205e10d\n",
      "  Stored in directory: /home/jafar/.cache/pip/wheels/27/f3/32/d4859d40071f07a5df0ab6fdc0076e78a8a786625dde2b4b2f\n",
      "Successfully built googletrans\n",
      "\u001b[33mWARNING: Error parsing requirements for torch: [Errno 2] No such file or directory: '/home/jafar/anaconda3/lib/python3.9/site-packages/torch-1.12.1.dist-info/METADATA'\u001b[0m\n",
      "Installing collected packages: hyperframe, hpack, h2, h11, rfc3986, idna, httpcore, hstspreload, chardet, httpx, googletrans\n",
      "  Attempting uninstall: h11\n",
      "    Found existing installation: h11 0.14.0\n",
      "    Uninstalling h11-0.14.0:\n",
      "      Successfully uninstalled h11-0.14.0\n",
      "  Attempting uninstall: idna\n",
      "    Found existing installation: idna 3.3\n",
      "    Uninstalling idna-3.3:\n",
      "      Successfully uninstalled idna-3.3\n",
      "  Attempting uninstall: httpcore\n",
      "    Found existing installation: httpcore 1.0.7\n",
      "    Uninstalling httpcore-1.0.7:\n",
      "      Successfully uninstalled httpcore-1.0.7\n",
      "  Attempting uninstall: chardet\n",
      "    Found existing installation: chardet 4.0.0\n",
      "    Uninstalling chardet-4.0.0:\n",
      "      Successfully uninstalled chardet-4.0.0\n",
      "  Attempting uninstall: httpx\n",
      "    Found existing installation: httpx 0.27.2\n",
      "    Uninstalling httpx-0.27.2:\n",
      "      Successfully uninstalled httpx-0.27.2\n",
      "\u001b[31mERROR: pip's dependency resolver does not currently take into account all the packages that are installed. This behaviour is the source of the following dependency conflicts.\n",
      "spyder 5.1.5 requires numpydoc>=0.6.0, which is not installed.\n",
      "spyder 5.1.5 requires pyqt5<5.13, which is not installed.\n",
      "spyder 5.1.5 requires pyqtwebengine<5.13, which is not installed.\n",
      "langsmith 0.1.145 requires httpx<1,>=0.23.0, but you have httpx 0.13.3 which is incompatible.\n",
      "farm-haystack 1.16.1 requires protobuf<=3.20.2, but you have protobuf 3.20.3 which is incompatible.\n",
      "azure-iot-device 2.1.4 requires urllib3!=1.25.0,!=1.25.1,<1.26,>1.21.1; python_version != \"3.4\", but you have urllib3 1.26.15 which is incompatible.\u001b[0m\n",
      "Successfully installed chardet-3.0.4 googletrans-3.0.0 h11-0.9.0 h2-3.2.0 hpack-3.0.0 hstspreload-2024.11.1 httpcore-0.9.1 httpx-0.13.3 hyperframe-5.2.0 idna-2.10 rfc3986-1.5.0\n"
     ]
    }
   ],
   "source": [
    "!pip3 install googletrans"
   ]
  },
  {
   "cell_type": "code",
   "execution_count": 11,
   "metadata": {},
   "outputs": [],
   "source": [
    "import httpcore\n",
    "setattr(httpcore, 'SyncHTTPTransport', 'AsyncHTTPProxy')"
   ]
  },
  {
   "cell_type": "code",
   "execution_count": 33,
   "metadata": {},
   "outputs": [
    {
     "name": "stdout",
     "output_type": "stream",
     "text": [
      "Collecting reportlab\n",
      "  Downloading reportlab-4.2.5-py3-none-any.whl (1.9 MB)\n",
      "\u001b[K     |████████████████████████████████| 1.9 MB 8.5 MB/s eta 0:00:01\n",
      "\u001b[?25hRequirement already satisfied: pillow>=9.0.0 in /home/jafar/anaconda3/lib/python3.9/site-packages (from reportlab) (9.0.1)\n",
      "Requirement already satisfied: chardet in /home/jafar/anaconda3/lib/python3.9/site-packages (from reportlab) (3.0.4)\n",
      "\u001b[33mWARNING: Error parsing requirements for torch: [Errno 2] No such file or directory: '/home/jafar/anaconda3/lib/python3.9/site-packages/torch-1.12.1.dist-info/METADATA'\u001b[0m\n",
      "Installing collected packages: reportlab\n",
      "Successfully installed reportlab-4.2.5\n"
     ]
    }
   ],
   "source": []
  },
  {
   "cell_type": "code",
   "execution_count": 3,
   "metadata": {},
   "outputs": [],
   "source": [
    "from pdfminer.high_level import extract_pages\n",
    "from pdfminer.layout import LTTextBox, LTTextLine\n",
    "from reportlab.pdfgen import canvas\n",
    "from reportlab.lib.pagesizes import letter\n",
    "# from PyPDF2 import PdfReader, PdfWriter\n",
    "import googletrans\n",
    "from googletrans import Translator\n",
    "\n",
    "from reportlab.pdfgen import canvas\n",
    "from reportlab.lib.styles import getSampleStyleSheet, ParagraphStyle\n",
    "from reportlab.platypus import Paragraph, Frame\n",
    "from reportlab.lib.enums import TA_LEFT\n",
    "from reportlab.lib.units import inch\n"
   ]
  },
  {
   "cell_type": "code",
   "execution_count": 4,
   "metadata": {},
   "outputs": [
    {
     "name": "stdout",
     "output_type": "stream",
     "text": [
      "{'af': 'afrikaans', 'sq': 'albanian', 'am': 'amharic', 'ar': 'arabic', 'hy': 'armenian', 'az': 'azerbaijani', 'eu': 'basque', 'be': 'belarusian', 'bn': 'bengali', 'bs': 'bosnian', 'bg': 'bulgarian', 'ca': 'catalan', 'ceb': 'cebuano', 'ny': 'chichewa', 'zh-cn': 'chinese (simplified)', 'zh-tw': 'chinese (traditional)', 'co': 'corsican', 'hr': 'croatian', 'cs': 'czech', 'da': 'danish', 'nl': 'dutch', 'en': 'english', 'eo': 'esperanto', 'et': 'estonian', 'tl': 'filipino', 'fi': 'finnish', 'fr': 'french', 'fy': 'frisian', 'gl': 'galician', 'ka': 'georgian', 'de': 'german', 'el': 'greek', 'gu': 'gujarati', 'ht': 'haitian creole', 'ha': 'hausa', 'haw': 'hawaiian', 'iw': 'hebrew', 'he': 'hebrew', 'hi': 'hindi', 'hmn': 'hmong', 'hu': 'hungarian', 'is': 'icelandic', 'ig': 'igbo', 'id': 'indonesian', 'ga': 'irish', 'it': 'italian', 'ja': 'japanese', 'jw': 'javanese', 'kn': 'kannada', 'kk': 'kazakh', 'km': 'khmer', 'ko': 'korean', 'ku': 'kurdish (kurmanji)', 'ky': 'kyrgyz', 'lo': 'lao', 'la': 'latin', 'lv': 'latvian', 'lt': 'lithuanian', 'lb': 'luxembourgish', 'mk': 'macedonian', 'mg': 'malagasy', 'ms': 'malay', 'ml': 'malayalam', 'mt': 'maltese', 'mi': 'maori', 'mr': 'marathi', 'mn': 'mongolian', 'my': 'myanmar (burmese)', 'ne': 'nepali', 'no': 'norwegian', 'or': 'odia', 'ps': 'pashto', 'fa': 'persian', 'pl': 'polish', 'pt': 'portuguese', 'pa': 'punjabi', 'ro': 'romanian', 'ru': 'russian', 'sm': 'samoan', 'gd': 'scots gaelic', 'sr': 'serbian', 'st': 'sesotho', 'sn': 'shona', 'sd': 'sindhi', 'si': 'sinhala', 'sk': 'slovak', 'sl': 'slovenian', 'so': 'somali', 'es': 'spanish', 'su': 'sundanese', 'sw': 'swahili', 'sv': 'swedish', 'tg': 'tajik', 'ta': 'tamil', 'te': 'telugu', 'th': 'thai', 'tr': 'turkish', 'uk': 'ukrainian', 'ur': 'urdu', 'ug': 'uyghur', 'uz': 'uzbek', 'vi': 'vietnamese', 'cy': 'welsh', 'xh': 'xhosa', 'yi': 'yiddish', 'yo': 'yoruba', 'zu': 'zulu'}\n"
     ]
    }
   ],
   "source": [
    "print(googletrans.LANGUAGES)"
   ]
  },
  {
   "cell_type": "code",
   "execution_count": 46,
   "metadata": {},
   "outputs": [],
   "source": [
    "page = extract_pages(file_path,page_numbers=30)\n"
   ]
  },
  {
   "cell_type": "code",
   "execution_count": null,
   "metadata": {},
   "outputs": [],
   "source": []
  },
  {
   "cell_type": "code",
   "execution_count": 15,
   "metadata": {},
   "outputs": [
    {
     "name": "stdout",
     "output_type": "stream",
     "text": [
      "Text: Rockchip SDK 申请及同步指南                                                                                                            3    文档与工具\n",
      "Width height : 496.6593776319999,11.35200000000009\n",
      "Position: (48.984, 793.05904, 545.6433776319999, 804.4110400000001)\n",
      "Text: 4  文档与工具\n",
      "Width height : 261.34528,45.427944000000025\n",
      "Position: (294.36, 734.890672, 555.70528, 780.318616)\n",
      "Text: 我们 Rockchip 官方提供给客户的文档和工具，是与对应的 SDK 一起释放给您的。现在主要\n",
      "Width height : 426.8899999999999,11.25696000000005\n",
      "Position: (112.61, 714.40408, 539.4999999999999, 725.6610400000001)\n",
      "Text: 有 Android OS 和 Linux OS 两套 SDK 版本，分别存放的文档和工具的路径有点差异。\n",
      "Width height : 411.88912000000005,11.25696000000005\n",
      "Position: (91.488, 698.80408, 503.37712000000005, 710.06104)\n",
      "Text: 4.1 Android SDK\n",
      "Width height : 143.02599999999998,19.29600000000005\n",
      "Position: (48.984, 669.994, 192.01, 689.2900000000001)\n",
      "Text: 如下是 Android OS SDK 存放文档和工具的路径：\n",
      "Width height : 242.12712,11.25696000000005\n",
      "Position: (112.61, 652.00408, 354.73712, 663.2610400000001)\n",
      "Text: 存放文档路径是：SDK 根目录下的 RKDocs 文件夹中； \n",
      "存放工具路径是：SDK 根目录下的 RKTools 文件夹中。\n",
      "Width height : 265.19712000000004,26.856960000000072\n",
      "Position: (122.45, 620.78408, 387.64712000000003, 647.6410400000001)\n",
      "Text: 4.2 Linux SDK\n",
      "Width height : 121.18599999999998,19.29600000000005\n",
      "Position: (48.984, 576.374, 170.17, 595.6700000000001)\n",
      "Text: 如下是 Linux OS SDK 存放文档和工具的路径：\n",
      "Width height : 229.64712000000003,11.25696000000005\n",
      "Position: (112.61, 558.38408, 342.25712000000004, 569.6410400000001)\n",
      "Text: 存放文档路径是：SDK 根目录下的 docs 文件夹中； \n",
      "存放工具路径是：SDK 根目录下的 tools 文件夹中。\n",
      "Width height : 248.36712000000006,26.856960000000072\n",
      "Position: (122.45, 527.15408, 370.81712000000005, 554.0110400000001)\n",
      "Text: 注：我们的文档和工具时跟随代码更新而同步更新到对应的 SDK 版本里，这里不同的 SDK\n",
      "Width height : 420.74888,11.256959999999992\n",
      "Position: (112.61, 495.95408, 533.35888, 507.21103999999997)\n",
      "Text: 版本工具和文档版本不一致。所以在您们开发过程中一定要使用对应的 SDK 中的工具，如果代码\n",
      "和工具的版本不是一一对应，可能会出现固件下载失败或者是系统启动失败等异常现象。\n",
      "Width height : 448.012,26.876959999999997\n",
      "Position: (91.488, 464.73408, 539.5, 491.61104)\n",
      "Text: Copyright 2020 @Fuzhou Rockchip Electronics Co., Ltd.\n",
      "Width height : 244.17599999999996,10.559999999999995\n",
      "Position: (48.984, 54.35904, 293.15999999999997, 64.91904)\n",
      "Text: 4-1\n",
      "Width height : 16.56000000000006,10.559999999999995\n",
      "Position: (532.54, 54.35904, 549.1, 64.91904)\n",
      "Text: \n",
      "Width height : 3.7171200000000013,10.56000000000006\n",
      "Position: (48.984, 604.70408, 52.70112, 615.26408)\n",
      "Text: \n",
      "Width height : 3.7171200000000013,10.56000000000006\n",
      "Position: (48.984, 511.07408, 52.70112, 521.63408)\n",
      "Text: \n",
      "Width height : 3.7171200000000013,10.560000000000002\n",
      "Position: (48.984, 433.05408, 52.70112, 443.61408)\n"
     ]
    }
   ],
   "source": [
    "\n",
    "# Iterate through pages and extract text along with coordinates\n",
    "for page_layout in extract_pages(file_path,page_numbers=[30]):\n",
    "    for element in page_layout:\n",
    "        if isinstance(element, LTTextBox) or isinstance(element, LTTextLine):\n",
    "            print(f\"Text: {element.get_text().strip()}\")\n",
    "            print(f\"Width height : {element.width},{element.height}\")\n",
    "            print(f\"Position: ({element.x0}, {element.y0}, {element.x1}, {element.y1})\")"
   ]
  },
  {
   "cell_type": "code",
   "execution_count": 14,
   "metadata": {},
   "outputs": [
    {
     "data": {
      "text/plain": [
       "10.560000000000002"
      ]
     },
     "execution_count": 14,
     "metadata": {},
     "output_type": "execute_result"
    }
   ],
   "source": [
    "element.height\n",
    "443.61408-433.05408"
   ]
  },
  {
   "cell_type": "code",
   "execution_count": 5,
   "metadata": {},
   "outputs": [
    {
     "name": "stdout",
     "output_type": "stream",
     "text": [
      "4 document and tool \n"
     ]
    }
   ],
   "source": [
    "from google_trans_new import google_translator  \n",
    "translator = google_translator()  \n",
    "translate_text = translator.translate('4  文档与工具',lang_tgt='en')  \n",
    "print(translate_text)\n"
   ]
  },
  {
   "cell_type": "code",
   "execution_count": 65,
   "metadata": {},
   "outputs": [
    {
     "data": {
      "text/plain": [
       "((612.0, 792.0), (595.2755905511812, 841.8897637795277))"
      ]
     },
     "execution_count": 65,
     "metadata": {},
     "output_type": "execute_result"
    }
   ],
   "source": [
    "from reportlab.lib.pagesizes import letter, A4\n",
    "letter, A4"
   ]
  },
  {
   "cell_type": "code",
   "execution_count": 8,
   "metadata": {},
   "outputs": [
    {
     "data": {
      "text/plain": [
       "['This is a long piece of text to wrap.', 'bllaaa']"
      ]
     },
     "execution_count": 8,
     "metadata": {},
     "output_type": "execute_result"
    }
   ],
   "source": [
    "\n",
    "# check the bbox of the text\n",
    "# how to warp the text into next line\n",
    "# check length of text ?\n",
    "\n",
    "\n",
    "from reportlab.lib.utils import simpleSplit\n",
    "\n",
    "# Break text into lines based on width\n",
    "text = \"This is a long piece of text to wrap. bllaaa\"\n",
    "wrapped_text = simpleSplit(text, 'Helvetica', 12, 200)  # f\n",
    "wrapped_text"
   ]
  },
  {
   "cell_type": "code",
   "execution_count": 235,
   "metadata": {},
   "outputs": [],
   "source": [
    "from reportlab.platypus import SimpleDocTemplate, Paragraph, PageTemplate, Frame\n",
    "from reportlab.lib.styles import getSampleStyleSheet\n",
    "from reportlab.lib.pagesizes import letter\n",
    "from reportlab.lib.units import inch, mm\n",
    "# def fit_text_in_box(canvas, text, bbox, font_name='Helvetica', initial_font_size=10):\n",
    "#     x, y, width, height = bbox\n",
    "    \n",
    "#     # Create a custom style\n",
    "#     style = ParagraphStyle(\n",
    "#         'custom',\n",
    "#         fontName=font_name,\n",
    "#         fontSize=initial_font_size,\n",
    "#         leading=initial_font_size,  # Line height\n",
    "#         alignment=TA_LEFT\n",
    "#     )\n",
    "    \n",
    "#     # Create paragraph\n",
    "#     p = Paragraph(text, style)\n",
    "    \n",
    "#     frame.addFromList([p], canvas)\n",
    "\n",
    "    \n",
    "#     # Try to fit the text, reducing font size if needed\n",
    "#     # font_size = initial_font_size\n",
    "#     # while font_size > 5:  # Minimum font size limit\n",
    "#     #     style.fontSize = font_size\n",
    "#     #     style.leading = font_size * 1.2\n",
    "#     #     p = Paragraph(text, style)\n",
    "        \n",
    "#     #     # Check if paragraph fits in box\n",
    "#     #     w, h = p.wrap(width, height)\n",
    "#     #     print(w,h)\n",
    "#     #     if w <=width and h <=(height):\n",
    "#     #         # Draw the paragraph\n",
    "#     #         adjusted_y = y - height + h\n",
    "#     #         frame = Frame(x, adjusted_y, width, height, showBoundary=0)\n",
    "#     #         frame = Frame(x, y, width, height, showBoundary=2)\n",
    "#     #         frame.addFromList([p], canvas)\n",
    "#     #         return True\n",
    "            \n",
    "#     #     font_size -= 1\n",
    "    \n",
    "#     # return False  # Text couldn't fit even at minimum font size\n",
    "\n",
    "\n",
    "# def create_document(c,text, x0,y0,width,height):\n",
    "#     # c  = canvas.Canvas('mydoc.pdf',pagesize=(595.27,841.89))\n",
    "#     # Create a document with specific page size\n",
    "\n",
    "#     # Create two frames at different positions on the page\n",
    "\n",
    "#     # frame2 = Frame(\n",
    "#     #     x1=4 * mm,     # X coordinate from left\n",
    "#     #     y1=0 * mm,   # Y coordinate from bottom\n",
    "#     #     width=2 * mm, # Width of content area\n",
    "#     #     height=1 * mm,  # Height of content area\n",
    "#     #     leftPadding=0,\n",
    "#     #     bottomPadding=0,\n",
    "#     #     rightPadding=0,\n",
    "#     #     topPadding=0,showBoundary=1\n",
    "#     # )\n",
    "\n",
    "#     # Add frames to the page template\n",
    "\n",
    "#     # Create multiple paragraphs\n",
    "#     styles = getSampleStyleSheet()\n",
    "    \n",
    "#     text1 = \"\"\"This is the ficccc so paragraph, placed in frame 1.\"\"\"\n",
    "#     text2 = \"\"\"This is the second sill so paragraph nn nnn nn nsdd dd dd dddd snd dd dddd dd  dc  dnn nnn dddddd snd ddd dddd ddd dddd sdnn nnnn dssks ddkad nnn nnh, placed in frame so 2.\"\"\"\n",
    "    \n",
    "#     paragraph1 = Paragraph(text, styles['Normal'])\n",
    "#     # paragraph2 = Paragraph(text2, styles['Normal'])\n",
    "#     aw,ah = paragraph1.wrap(width,height)\n",
    "#     print(f\"available_width: {aw} available_height {ah}\")\n",
    "#     # print(2 * inch,1 * inch)\n",
    "    \n",
    "#     frame1 = Frame(\n",
    "#     x1=x0 * mm,     # X coordinate from left\n",
    "#     y1=y0 * mm,     # Y coordinate from bottom\n",
    "#     width=aw, # Width of content area\n",
    "#     height=ah,   # Height of content area\n",
    "#     leftPadding=0,\n",
    "#     bottomPadding=0,\n",
    "#     rightPadding=0,\n",
    "#     topPadding=0,showBoundary=1\n",
    "#     )\n",
    "#     frame1_flowables = [paragraph1]\n",
    "#     # frame2_flowables = [paragraph2]\n",
    "#     frame1.addFromList(frame1_flowables, c)\n",
    "#     # frame2.addFromList(frame2_flowables, c)\n",
    "#     # Build the document by rendering each frame separately\n",
    "#     # doc.build([\n",
    "#     #     frame1.addFromList(frame1_flowables, c),\n",
    "#     #     frame2.addFromList(frame2_flowables, c)\n",
    "#     # ])\n",
    "#     # c.save()\n"
   ]
  },
  {
   "cell_type": "code",
   "execution_count": 344,
   "metadata": {},
   "outputs": [],
   "source": [
    "from reportlab.lib.styles import getSampleStyleSheet,ParagraphStyle\n",
    "# styles = ParagraphStyle('Normal')\n",
    "styles = getSampleStyleSheet()\n",
    "yourStyle = ParagraphStyle('yourtitle',\n",
    "                           fontName=\"Helvetica\",\n",
    "                           fontSize=8,\n",
    "                           parent=styles['Normal'],\n",
    "                           alignment=0,\n",
    "                           spaceAfter=6, spaceBefore=6)\n",
    "\n",
    "def create_document(c,text, x0,y0,width,height):\n",
    "    # Create multiple paragraphs\n",
    "    styles = getSampleStyleSheet()\n",
    " \n",
    "    paragraph1 = Paragraph(text, yourStyle)\n",
    "    # paragraph2 = Paragraph(text2, yourStyle)\n",
    "    aw,ah = paragraph1.wrap(width,height)\n",
    "    print(aw,ah, \"actual: \",width,height)\n",
    "    frame1_flowables = [paragraph1]\n",
    "    # frame2_flowables = [paragraph2]\n",
    "    \n",
    "    # Create two frames at different positions on the page\n",
    "    frame1 = Frame(\n",
    "        x1=x0,     # X coordinate from left\n",
    "        y1=y0,     # Y coordinate from bottom\n",
    "        width=aw, # Width of content area\n",
    "        height=ah,   # Height of content area\n",
    "        leftPadding=0,\n",
    "        bottomPadding=0,\n",
    "        rightPadding=0,\n",
    "        topPadding=0,showBoundary=0,\n",
    "        \n",
    "    )\n",
    "    \n",
    "    frame1.addFromList(frame1_flowables, c)\n",
    "    # frame2.addFromList(frame2_flowables, c)\n"
   ]
  },
  {
   "cell_type": "code",
   "execution_count": 346,
   "metadata": {},
   "outputs": [
    {
     "name": "stdout",
     "output_type": "stream",
     "text": [
      "RockChip SDK application and synchronization guide 3 documents and tools  48 793\n",
      "Position: (48.984, 793.05904, 545.6433776319999, 804.4110400000001)\n",
      "(48, 793, 496, 11)\n",
      "496 12 actual:  496 11\n",
      "4 document and tool  294 734\n",
      "Position: (294.36, 734.890672, 555.70528, 780.318616)\n",
      "(294, 734, 261, 45)\n",
      "261 12 actual:  261 45\n",
      "Our Rockchip officially provided by the customer is released to you with the corresponding SDK. Now mainly  112 714\n",
      "Position: (112.61, 714.40408, 539.4999999999999, 725.6610400000001)\n",
      "(112, 714, 426, 11)\n",
      "426 12 actual:  426 11\n",
      "There are two sets of SDK versions of Android OS and Linux OS, and the paths and tools stored separately are different.  91 698\n",
      "Position: (91.488, 698.80408, 503.37712000000005, 710.06104)\n",
      "(91, 698, 411, 11)\n",
      "411 24 actual:  411 11\n",
      "4.1 Android SDK  48 669\n",
      "Position: (48.984, 669.994, 192.01, 689.2900000000001)\n",
      "(48, 669, 143, 19)\n",
      "143 12 actual:  143 19\n",
      "The following is the path of Android OS SDK storage documents and tools:  112 652\n",
      "Position: (112.61, 652.00408, 354.73712, 663.2610400000001)\n",
      "(112, 652, 242, 11)\n",
      "242 24 actual:  242 11\n",
      "Storage document path is: in the RKDOCS folder in the SDK root directory; Storage tool path is: RKTools folder under the SDK root directory.  122 620\n",
      "Position: (122.45, 620.78408, 387.64712000000003, 647.6410400000001)\n",
      "(122, 620, 265, 26)\n",
      "265 24 actual:  265 26\n",
      "4.2 Linux SDK  48 576\n",
      "Position: (48.984, 576.374, 170.17, 595.6700000000001)\n",
      "(48, 576, 121, 19)\n",
      "121 12 actual:  121 19\n",
      "The following is the path of Linux OS SDK storage documents and tools:  112 558\n",
      "Position: (112.61, 558.38408, 342.25712000000004, 569.6410400000001)\n",
      "(112, 558, 229, 11)\n",
      "229 24 actual:  229 11\n",
      "Store the document path: in the docs folder in the SDK root directory; The storage tool path is in the Tools folder under the SDK root directory.  122 527\n",
      "Position: (122.45, 527.15408, 370.81712000000005, 554.0110400000001)\n",
      "(122, 527, 248, 26)\n",
      "248 36 actual:  248 26\n",
      "Note: When our documents and tools are updated with the code update and updated simultaneously into the corresponding SDK version, the different SDKs here  112 495\n",
      "Position: (112.61, 495.95408, 533.35888, 507.21103999999997)\n",
      "(112, 495, 420, 11)\n",
      "420 24 actual:  420 11\n",
      "The version tools and documents are inconsistent. Therefore, in your development process, you must use the tools in the corresponding SDK, if the code The version of the tool is not one -to -one, and there may be abnormal phenomena such as firmware download failure or system start failure.  91 464\n",
      "Position: (91.488, 464.73408, 539.5, 491.61104)\n",
      "(91, 464, 448, 26)\n",
      "448 36 actual:  448 26\n",
      "Copyright 2020 @Fuzhou Rockchip Electronics Co., Ltd.  48 54\n",
      "Position: (48.984, 54.35904, 293.15999999999997, 64.91904)\n",
      "(48, 54, 244, 10)\n",
      "244 12 actual:  244 10\n",
      "4-1  532 54\n",
      "Position: (532.54, 54.35904, 549.1, 64.91904)\n",
      "(532, 54, 16, 10)\n",
      "16 12 actual:  16 10\n",
      " 48 604\n",
      "Position: (48.984, 604.70408, 52.70112, 615.26408)\n",
      "(48, 604, 3, 10)\n",
      "3 0 actual:  3 10\n",
      " 48 511\n",
      "Position: (48.984, 511.07408, 52.70112, 521.63408)\n",
      "(48, 511, 3, 10)\n",
      "3 0 actual:  3 10\n",
      " 48 433\n",
      "Position: (48.984, 433.05408, 52.70112, 443.61408)\n",
      "(48, 433, 3, 10)\n",
      "3 0 actual:  3 10\n"
     ]
    }
   ],
   "source": [
    "new_pdf_path = \"modified.pdf\"\n",
    "# Create a new PDF with ReportLab\n",
    "c = canvas.Canvas(new_pdf_path, pagesize=(595.27,841.89))\n",
    "# textobject = c.beginText(100, 273)\n",
    "# textobject.setFont(\"Helvetica\", 30)\n",
    "# textobject.textLine(\"Hello World\")\n",
    "\n",
    "# Draw bbox (optional, for visualization)\n",
    "# Define your bbox (x, y, width, height)\n",
    "# bbox = (50, 500, 200, 30)  # in points\n",
    "# x, y, w, h = bbox\n",
    "# c.rect(x, y, w, h)\n",
    "\n",
    "# Fit text in box\n",
    "# fit_text_in_box(c, text, bbox)\n",
    "\n",
    "\n",
    "for page_layout in extract_pages(file_path,page_numbers=[30]):\n",
    "    for element in page_layout:\n",
    "        if isinstance(element, LTTextBox) or isinstance(element, LTTextLine):\n",
    "            translate_text = translator.translate(element.get_text().strip(),lang_tgt='en')  \n",
    "            print(translate_text,int(element.x0), int(element.y0))\n",
    "            # c.setFont(\"Helvetica\", int(element.y1-element.y0))\n",
    "            print(f\"Position: ({element.x0}, {element.y0}, {element.x1}, {element.y1})\")\n",
    "            # c.drawString(int(element.x0), int(element.y0), translate_text, mode=0,direction='LTR')\n",
    "            bbox = (int(element.x0), int(element.y0), int(element.x1-element.x0), abs(int(element.y1-element.y0)))  # in points\n",
    "            # x, y, w, h = bbox\n",
    "            print(bbox)\n",
    "            # fit_text_in_box(c, translate_text, bbox)\n",
    "            create_document(c,translate_text, bbox[0],bbox[1],bbox[2],bbox[3])\n",
    "            # break\n",
    "c.showPage()\n",
    "c.save()"
   ]
  },
  {
   "cell_type": "code",
   "execution_count": 32,
   "metadata": {},
   "outputs": [
    {
     "ename": "FileNotFoundError",
     "evalue": "[Errno 2] No such file or directory: 'modified.pdf'",
     "output_type": "error",
     "traceback": [
      "\u001b[0;31m---------------------------------------------------------------------------\u001b[0m",
      "\u001b[0;31mFileNotFoundError\u001b[0m                         Traceback (most recent call last)",
      "Input \u001b[0;32mIn [32]\u001b[0m, in \u001b[0;36m<cell line: 8>\u001b[0;34m()\u001b[0m\n\u001b[1;32m      6\u001b[0m \u001b[38;5;66;03m# Read the original and modified PDFs\u001b[39;00m\n\u001b[1;32m      7\u001b[0m original_pdf \u001b[38;5;241m=\u001b[39m pypdf\u001b[38;5;241m.\u001b[39mPdfReader(original_pdf_path)\n\u001b[0;32m----> 8\u001b[0m modified_pdf \u001b[38;5;241m=\u001b[39m \u001b[43mpypdf\u001b[49m\u001b[38;5;241;43m.\u001b[39;49m\u001b[43mPdfReader\u001b[49m\u001b[43m(\u001b[49m\u001b[43mmodified_pdf_path\u001b[49m\u001b[43m)\u001b[49m\n\u001b[1;32m      9\u001b[0m pdf_writer \u001b[38;5;241m=\u001b[39m pypdf\u001b[38;5;241m.\u001b[39mPdfWriter()\n\u001b[1;32m     11\u001b[0m \u001b[38;5;66;03m# Overlay pages\u001b[39;00m\n",
      "File \u001b[0;32m~/anaconda3/lib/python3.9/site-packages/pypdf/_reader.py:133\u001b[0m, in \u001b[0;36mPdfReader.__init__\u001b[0;34m(self, stream, strict, password)\u001b[0m\n\u001b[1;32m    129\u001b[0m \u001b[38;5;28mself\u001b[39m\u001b[38;5;241m.\u001b[39m_page_id2num: Optional[Dict[Any, Any]] \u001b[38;5;241m=\u001b[39m \u001b[38;5;28;01mNone\u001b[39;00m\n\u001b[1;32m    131\u001b[0m \u001b[38;5;28mself\u001b[39m\u001b[38;5;241m.\u001b[39m_validated_root: Optional[DictionaryObject] \u001b[38;5;241m=\u001b[39m \u001b[38;5;28;01mNone\u001b[39;00m\n\u001b[0;32m--> 133\u001b[0m \u001b[38;5;28;43mself\u001b[39;49m\u001b[38;5;241;43m.\u001b[39;49m\u001b[43m_initialize_stream\u001b[49m\u001b[43m(\u001b[49m\u001b[43mstream\u001b[49m\u001b[43m)\u001b[49m\n\u001b[1;32m    135\u001b[0m \u001b[38;5;28mself\u001b[39m\u001b[38;5;241m.\u001b[39m_override_encryption \u001b[38;5;241m=\u001b[39m \u001b[38;5;28;01mFalse\u001b[39;00m\n\u001b[1;32m    136\u001b[0m \u001b[38;5;28mself\u001b[39m\u001b[38;5;241m.\u001b[39m_encryption: Optional[Encryption] \u001b[38;5;241m=\u001b[39m \u001b[38;5;28;01mNone\u001b[39;00m\n",
      "File \u001b[0;32m~/anaconda3/lib/python3.9/site-packages/pypdf/_reader.py:151\u001b[0m, in \u001b[0;36mPdfReader._initialize_stream\u001b[0;34m(self, stream)\u001b[0m\n\u001b[1;32m    149\u001b[0m \u001b[38;5;28mself\u001b[39m\u001b[38;5;241m.\u001b[39m_stream_opened \u001b[38;5;241m=\u001b[39m \u001b[38;5;28;01mFalse\u001b[39;00m\n\u001b[1;32m    150\u001b[0m \u001b[38;5;28;01mif\u001b[39;00m \u001b[38;5;28misinstance\u001b[39m(stream, (\u001b[38;5;28mstr\u001b[39m, Path)):\n\u001b[0;32m--> 151\u001b[0m     \u001b[38;5;28;01mwith\u001b[39;00m \u001b[38;5;28;43mopen\u001b[39;49m\u001b[43m(\u001b[49m\u001b[43mstream\u001b[49m\u001b[43m,\u001b[49m\u001b[43m \u001b[49m\u001b[38;5;124;43m\"\u001b[39;49m\u001b[38;5;124;43mrb\u001b[39;49m\u001b[38;5;124;43m\"\u001b[39;49m\u001b[43m)\u001b[49m \u001b[38;5;28;01mas\u001b[39;00m fh:\n\u001b[1;32m    152\u001b[0m         stream \u001b[38;5;241m=\u001b[39m BytesIO(fh\u001b[38;5;241m.\u001b[39mread())\n\u001b[1;32m    153\u001b[0m     \u001b[38;5;28mself\u001b[39m\u001b[38;5;241m.\u001b[39m_stream_opened \u001b[38;5;241m=\u001b[39m \u001b[38;5;28;01mTrue\u001b[39;00m\n",
      "\u001b[0;31mFileNotFoundError\u001b[0m: [Errno 2] No such file or directory: 'modified.pdf'"
     ]
    }
   ],
   "source": [
    "\n",
    "\n",
    "# Original and modified PDF paths\n",
    "original_pdf_path = file_path\n",
    "modified_pdf_path = \"modified.pdf\"\n",
    "output_pdf_path = \"output.pdf\"\n",
    "\n",
    "# Read the original and modified PDFs\n",
    "original_pdf = pypdf.PdfReader(original_pdf_path)\n",
    "modified_pdf = pypdf.PdfReader(modified_pdf_path)\n",
    "pdf_writer = pypdf.PdfWriter()\n",
    "\n",
    "# Overlay pages\n",
    "for page_number in range(len(original_pdf.pages)):\n",
    "    original_page = original_pdf.pages[page_number]\n",
    "    if page_number < len(modified_pdf.pages):\n",
    "        modified_page = modified_pdf.pages[page_number]\n",
    "        original_page.merge_page(modified_page)\n",
    "    pdf_writer.add_page(original_page)\n",
    "\n",
    "# Write the output PDF\n",
    "with open(output_pdf_path, \"wb\") as output_pdf:\n",
    "    pdf_writer.write(output_pdf)\n"
   ]
  },
  {
   "cell_type": "code",
   "execution_count": 56,
   "metadata": {},
   "outputs": [
    {
     "name": "stdout",
     "output_type": "stream",
     "text": [
      "0 0 0 0 0\n",
      "200 115.19999999999999\n",
      "200 92.39999999999999\n",
      "200 84.0\n",
      "200 64.8\n",
      "200 48.0\n",
      "200 42.0\n",
      "200 28.799999999999997\n",
      "200 18.0\n",
      "200 14.399999999999999\n",
      "200 7.199999999999999\n"
     ]
    }
   ],
   "source": [
    "\n",
    "# Example usage\n",
    "c = canvas.Canvas(\"output.pdf\")\n",
    "\n",
    "\n",
    "\n",
    "# Your text\n",
    "text = \"\"\"This is a long piece of text that needs to fit \n",
    "within the specified bounding box. The function will \n",
    "automatically adjust the font size to make it fit hdjsdd djsdhsdjd.\n",
    "sdkdjk sddjskjndkduyio dshdkdjdknsjsdh.\n",
    "sdsdhjhdyuhsjdnjxnjchgddhn jjsdh kddkbd dhkdh.\"\"\"\n",
    "\n",
    "# Draw bbox (optional, for visualization)\n",
    "# Define your bbox (x, y, width, height)\n",
    "bbox = (50, 500, 200, 30)  # in points\n",
    "x, y, w, h = bbox\n",
    "c.rect(x, y, w, h)\n",
    "\n",
    "# Fit text in box\n",
    "fit_text_in_box(c, text, bbox)\n",
    "\n",
    "c.save()"
   ]
  },
  {
   "cell_type": "code",
   "execution_count": 82,
   "metadata": {},
   "outputs": [],
   "source": [
    "from reportlab.pdfgen import canvas\n",
    "\n",
    "c = canvas.Canvas(\"output.pdf\",pagesize=(595.27,841.89))\n",
    "textobject = c.beginText()\n",
    "textobject.setTextOrigin(0, 800)  # x, y coordinates\n",
    "textobject.textLines(\"\"\"This is a long text that adssssssssss asddddddddddddd asdddddddddddddddd asdddddddddddddddd asddddddddddddddd \n",
    "                     asdddddddddddddddddd sadddddddddddddddd cwrap at the specified width\"\"\")\n",
    "c.drawText(textobject)\n",
    "c.save()"
   ]
  },
  {
   "cell_type": "code",
   "execution_count": 255,
   "metadata": {},
   "outputs": [
    {
     "data": {
      "text/plain": [
       "2.834645669291339"
      ]
     },
     "execution_count": 255,
     "metadata": {},
     "output_type": "execute_result"
    }
   ],
   "source": [
    "import reportlab\n",
    "reportlab.__version__\n",
    "reportlab.lib.units.toLength(\"1mm\")"
   ]
  },
  {
   "cell_type": "code",
   "execution_count": 291,
   "metadata": {},
   "outputs": [],
   "source": [
    "from reportlab.lib.styles import getSampleStyleSheet,ParagraphStyle\n",
    "# styles = ParagraphStyle('Normal')\n",
    "styles = getSampleStyleSheet()\n",
    "yourStyle = ParagraphStyle('yourtitle',\n",
    "                           fontName=\"Helvetica\",\n",
    "                           fontSize=11,\n",
    "                           parent=styles['Normal'],\n",
    "                           alignment=1,\n",
    "                           spaceAfter=1)"
   ]
  },
  {
   "cell_type": "code",
   "execution_count": 301,
   "metadata": {},
   "outputs": [
    {
     "name": "stdout",
     "output_type": "stream",
     "text": [
      "(595.2755905511812, 841.8897637795277)\n",
      "576.0 24 actual:  576.0 144.0\n"
     ]
    }
   ],
   "source": [
    "from reportlab.platypus import SimpleDocTemplate, Paragraph, PageTemplate, Frame\n",
    "from reportlab.lib.styles import getSampleStyleSheet,ParagraphStyle\n",
    "from reportlab.lib.pagesizes import letter, A4\n",
    "from reportlab.lib.units import inch, mm\n",
    "# from reportlab.lib.styles import \n",
    "\n",
    "print(A4)\n",
    "def create_document():\n",
    "    c  = canvas.Canvas('mydoc.pdf',pagesize=(595.27,841.89))\n",
    "    # Create a document with specific page size\n",
    "    doc = SimpleDocTemplate(\n",
    "        \"output.pdf\",\n",
    "        pagesize=A4,\n",
    "        leftMargin=0,\n",
    "        rightMargin=0,\n",
    "        topMargin=0,\n",
    "        bottomMargin=0\n",
    "    )\n",
    "\n",
    "\n",
    "\n",
    "    # Add frames to the page template\n",
    "    # template = PageTemplate(frames=[frame1, frame2])\n",
    "    # doc.addPageTemplates(template)\n",
    "\n",
    "    # Create multiple paragraphs\n",
    "    styles = getSampleStyleSheet()\n",
    "    \n",
    "    text1 = \"\"\"This is the ficccc so paragraph, placed in frame 1.\"\"\"\n",
    "    text2 = \"\"\"This is the second sill so paragraph nn nnn nn nsdd dd dd dddd snd dd dddd dd  dc  dnn nnn dddddd snd ddd dddd ddd dddd sdnn nnnn dssks ddkad nnn nnh, placed in frame so 2.\"\"\"\n",
    "    \n",
    "    paragraph1 = Paragraph(text1, styles['Normal'])\n",
    "    paragraph2 = Paragraph(text2, yourStyle)\n",
    "    aw,ah = paragraph2.wrap(8 * inch,2 * inch)\n",
    "    print(aw,ah, \"actual: \",8 * inch,2 * inch)\n",
    "    frame1_flowables = [paragraph1]\n",
    "    frame2_flowables = [paragraph2]\n",
    "    \n",
    "        # Create two frames at different positions on the page\n",
    "    frame1 = Frame(\n",
    "        x1=0 * inch,     # X coordinate from left\n",
    "        y1=0 * inch,     # Y coordinate from bottom\n",
    "        width=3 * inch, # Width of content area\n",
    "        height=0.5 * inch,   # Height of content area\n",
    "        leftPadding=0,\n",
    "        bottomPadding=0,\n",
    "        rightPadding=0,\n",
    "        topPadding=0,showBoundary=1\n",
    "        \n",
    "    )\n",
    "    frame2 = Frame(\n",
    "        x1=2 * inch,     # X coordinate from left\n",
    "        y1=2 * inch,   # Y coordinate from bottom\n",
    "        width=aw, # Width of content area\n",
    "        height=ah,  # Height of content area\n",
    "        leftPadding=0,\n",
    "        bottomPadding=0,\n",
    "        rightPadding=0,\n",
    "        topPadding=0,showBoundary=1\n",
    "    )\n",
    "    \n",
    "    \n",
    "    frame1.addFromList(frame1_flowables, c)\n",
    "    frame2.addFromList(frame2_flowables, c)\n",
    "    # Build the document by rendering each frame separately\n",
    "    # doc.build([\n",
    "    #     frame1.addFromList(frame1_flowables, c),\n",
    "    #     frame2.addFromList(frame2_flowables, c)\n",
    "    # ])\n",
    "    c.save()\n",
    "    \n",
    "    \n",
    "create_document()\n"
   ]
  },
  {
   "cell_type": "code",
   "execution_count": 302,
   "metadata": {},
   "outputs": [
    {
     "ename": "IndexError",
     "evalue": "\nhandle_pageBegin args=() list index out of range",
     "output_type": "error",
     "traceback": [
      "\u001b[0;31m---------------------------------------------------------------------------\u001b[0m",
      "\u001b[0;31mIndexError\u001b[0m                                Traceback (most recent call last)",
      "File \u001b[0;32m~/anaconda3/lib/python3.9/site-packages/reportlab/platypus/doctemplate.py:165\u001b[0m, in \u001b[0;36mActionFlowable.apply\u001b[0;34m(self, doc)\u001b[0m\n\u001b[1;32m    164\u001b[0m \u001b[38;5;28;01mtry\u001b[39;00m:\n\u001b[0;32m--> 165\u001b[0m     \u001b[38;5;28;43mgetattr\u001b[39;49m\u001b[43m(\u001b[49m\u001b[43mdoc\u001b[49m\u001b[43m,\u001b[49m\u001b[43marn\u001b[49m\u001b[43m)\u001b[49m\u001b[43m(\u001b[49m\u001b[38;5;241;43m*\u001b[39;49m\u001b[43margs\u001b[49m\u001b[43m)\u001b[49m\n\u001b[1;32m    166\u001b[0m \u001b[38;5;28;01mexcept\u001b[39;00m \u001b[38;5;167;01mAttributeError\u001b[39;00m \u001b[38;5;28;01mas\u001b[39;00m aerr:\n",
      "File \u001b[0;32m~/anaconda3/lib/python3.9/site-packages/reportlab/platypus/doctemplate.py:1297\u001b[0m, in \u001b[0;36mSimpleDocTemplate.handle_pageBegin\u001b[0;34m(self)\u001b[0m\n\u001b[1;32m   1295\u001b[0m \u001b[38;5;250m\u001b[39m\u001b[38;5;124;03m'''override base method to add a change of page template after the firstpage.\u001b[39;00m\n\u001b[1;32m   1296\u001b[0m \u001b[38;5;124;03m'''\u001b[39;00m\n\u001b[0;32m-> 1297\u001b[0m \u001b[38;5;28;43mself\u001b[39;49m\u001b[38;5;241;43m.\u001b[39;49m\u001b[43m_handle_pageBegin\u001b[49m\u001b[43m(\u001b[49m\u001b[43m)\u001b[49m\n\u001b[1;32m   1298\u001b[0m \u001b[38;5;28mself\u001b[39m\u001b[38;5;241m.\u001b[39m_handle_nextPageTemplate(\u001b[38;5;124m'\u001b[39m\u001b[38;5;124mLater\u001b[39m\u001b[38;5;124m'\u001b[39m)\n",
      "File \u001b[0;32m~/anaconda3/lib/python3.9/site-packages/reportlab/platypus/doctemplate.py:628\u001b[0m, in \u001b[0;36mBaseDocTemplate.handle_pageBegin\u001b[0;34m(self)\u001b[0m\n\u001b[1;32m    627\u001b[0m     \u001b[38;5;28;01mdel\u001b[39;00m \u001b[38;5;28mself\u001b[39m\u001b[38;5;241m.\u001b[39m_nextFrameIndex\n\u001b[0;32m--> 628\u001b[0m \u001b[38;5;28mself\u001b[39m\u001b[38;5;241m.\u001b[39mframe \u001b[38;5;241m=\u001b[39m \u001b[38;5;28;43mself\u001b[39;49m\u001b[38;5;241;43m.\u001b[39;49m\u001b[43mpageTemplate\u001b[49m\u001b[38;5;241;43m.\u001b[39;49m\u001b[43mframes\u001b[49m\u001b[43m[\u001b[49m\u001b[38;5;241;43m0\u001b[39;49m\u001b[43m]\u001b[49m\n\u001b[1;32m    629\u001b[0m \u001b[38;5;28mself\u001b[39m\u001b[38;5;241m.\u001b[39mframe\u001b[38;5;241m.\u001b[39m_debug \u001b[38;5;241m=\u001b[39m \u001b[38;5;28mself\u001b[39m\u001b[38;5;241m.\u001b[39m_debug\n",
      "\u001b[0;31mIndexError\u001b[0m: list index out of range",
      "\nDuring handling of the above exception, another exception occurred:\n",
      "\u001b[0;31mIndexError\u001b[0m                                Traceback (most recent call last)",
      "Input \u001b[0;32mIn [302]\u001b[0m, in \u001b[0;36m<cell line: 58>\u001b[0;34m()\u001b[0m\n\u001b[1;32m     55\u001b[0m     doc\u001b[38;5;241m.\u001b[39mbuild([spacer])\n\u001b[1;32m     56\u001b[0m     \u001b[38;5;66;03m# doc.build([])\u001b[39;00m\n\u001b[0;32m---> 58\u001b[0m \u001b[43mcreate_document\u001b[49m\u001b[43m(\u001b[49m\u001b[43m)\u001b[49m\n",
      "Input \u001b[0;32mIn [302]\u001b[0m, in \u001b[0;36mcreate_document\u001b[0;34m()\u001b[0m\n\u001b[1;32m     52\u001b[0m spacer \u001b[38;5;241m=\u001b[39m Spacer(\u001b[38;5;241m1\u001b[39m, \u001b[38;5;241m1\u001b[39m)\n\u001b[1;32m     54\u001b[0m \u001b[38;5;66;03m# Build the document (the spacer will trigger the custom layout)\u001b[39;00m\n\u001b[0;32m---> 55\u001b[0m \u001b[43mdoc\u001b[49m\u001b[38;5;241;43m.\u001b[39;49m\u001b[43mbuild\u001b[49m\u001b[43m(\u001b[49m\u001b[43m[\u001b[49m\u001b[43mspacer\u001b[49m\u001b[43m]\u001b[49m\u001b[43m)\u001b[49m\n",
      "File \u001b[0;32m~/anaconda3/lib/python3.9/site-packages/reportlab/platypus/doctemplate.py:1321\u001b[0m, in \u001b[0;36mSimpleDocTemplate.build\u001b[0;34m(self, flowables, onFirstPage, onLaterPages, canvasmaker)\u001b[0m\n\u001b[1;32m   1319\u001b[0m \u001b[38;5;28;01mif\u001b[39;00m onLaterPages \u001b[38;5;129;01mis\u001b[39;00m _doNothing \u001b[38;5;129;01mand\u001b[39;00m \u001b[38;5;28mhasattr\u001b[39m(\u001b[38;5;28mself\u001b[39m,\u001b[38;5;124m'\u001b[39m\u001b[38;5;124monLaterPages\u001b[39m\u001b[38;5;124m'\u001b[39m):\n\u001b[1;32m   1320\u001b[0m     \u001b[38;5;28mself\u001b[39m\u001b[38;5;241m.\u001b[39mpageTemplates[\u001b[38;5;241m1\u001b[39m]\u001b[38;5;241m.\u001b[39mbeforeDrawPage \u001b[38;5;241m=\u001b[39m \u001b[38;5;28mself\u001b[39m\u001b[38;5;241m.\u001b[39monLaterPages\n\u001b[0;32m-> 1321\u001b[0m \u001b[43mBaseDocTemplate\u001b[49m\u001b[38;5;241;43m.\u001b[39;49m\u001b[43mbuild\u001b[49m\u001b[43m(\u001b[49m\u001b[38;5;28;43mself\u001b[39;49m\u001b[43m,\u001b[49m\u001b[43mflowables\u001b[49m\u001b[43m,\u001b[49m\u001b[43m \u001b[49m\u001b[43mcanvasmaker\u001b[49m\u001b[38;5;241;43m=\u001b[39;49m\u001b[43mcanvasmaker\u001b[49m\u001b[43m)\u001b[49m\n",
      "File \u001b[0;32m~/anaconda3/lib/python3.9/site-packages/reportlab/platypus/doctemplate.py:1080\u001b[0m, in \u001b[0;36mBaseDocTemplate.build\u001b[0;34m(self, flowables, filename, canvasmaker)\u001b[0m\n\u001b[1;32m   1078\u001b[0m         \u001b[38;5;28mself\u001b[39m\u001b[38;5;241m.\u001b[39m_setPageTemplate()\n\u001b[1;32m   1079\u001b[0m     \u001b[38;5;28;01mdel\u001b[39;00m flowables[\u001b[38;5;241m0\u001b[39m]\n\u001b[0;32m-> 1080\u001b[0m \u001b[38;5;28;43mself\u001b[39;49m\u001b[38;5;241;43m.\u001b[39;49m\u001b[43mclean_hanging\u001b[49m\u001b[43m(\u001b[49m\u001b[43m)\u001b[49m\n\u001b[1;32m   1081\u001b[0m \u001b[38;5;28;01mtry\u001b[39;00m:\n\u001b[1;32m   1082\u001b[0m     first \u001b[38;5;241m=\u001b[39m flowables[\u001b[38;5;241m0\u001b[39m]\n",
      "File \u001b[0;32m~/anaconda3/lib/python3.9/site-packages/reportlab/platypus/doctemplate.py:592\u001b[0m, in \u001b[0;36mBaseDocTemplate.clean_hanging\u001b[0;34m(self)\u001b[0m\n\u001b[1;32m    590\u001b[0m \u001b[38;5;124m'\u001b[39m\u001b[38;5;124mhandle internal postponed actions\u001b[39m\u001b[38;5;124m'\u001b[39m\n\u001b[1;32m    591\u001b[0m \u001b[38;5;28;01mwhile\u001b[39;00m \u001b[38;5;28mlen\u001b[39m(\u001b[38;5;28mself\u001b[39m\u001b[38;5;241m.\u001b[39m_hanging):\n\u001b[0;32m--> 592\u001b[0m     \u001b[38;5;28;43mself\u001b[39;49m\u001b[38;5;241;43m.\u001b[39;49m\u001b[43mhandle_flowable\u001b[49m\u001b[43m(\u001b[49m\u001b[38;5;28;43mself\u001b[39;49m\u001b[38;5;241;43m.\u001b[39;49m\u001b[43m_hanging\u001b[49m\u001b[43m)\u001b[49m\n",
      "File \u001b[0;32m~/anaconda3/lib/python3.9/site-packages/reportlab/platypus/doctemplate.py:926\u001b[0m, in \u001b[0;36mBaseDocTemplate.handle_flowable\u001b[0;34m(self, flowables)\u001b[0m\n\u001b[1;32m    924\u001b[0m     \u001b[38;5;28mself\u001b[39m\u001b[38;5;241m.\u001b[39mafterFlowable(f)\n\u001b[1;32m    925\u001b[0m \u001b[38;5;28;01melif\u001b[39;00m \u001b[38;5;28misinstance\u001b[39m(f,ActionFlowable):\n\u001b[0;32m--> 926\u001b[0m     \u001b[43mf\u001b[49m\u001b[38;5;241;43m.\u001b[39;49m\u001b[43mapply\u001b[49m\u001b[43m(\u001b[49m\u001b[38;5;28;43mself\u001b[39;49m\u001b[43m)\u001b[49m\n\u001b[1;32m    927\u001b[0m     \u001b[38;5;28mself\u001b[39m\u001b[38;5;241m.\u001b[39mafterFlowable(f)\n\u001b[1;32m    928\u001b[0m \u001b[38;5;28;01melse\u001b[39;00m:\n",
      "File \u001b[0;32m~/anaconda3/lib/python3.9/site-packages/reportlab/platypus/doctemplate.py:172\u001b[0m, in \u001b[0;36mActionFlowable.apply\u001b[0;34m(self, doc)\u001b[0m\n\u001b[1;32m    170\u001b[0m         \u001b[38;5;28;01mraise\u001b[39;00m\n\u001b[1;32m    171\u001b[0m \u001b[38;5;28;01mexcept\u001b[39;00m:\n\u001b[0;32m--> 172\u001b[0m     \u001b[43mannotateException\u001b[49m\u001b[43m(\u001b[49m\u001b[38;5;124;43m\"\u001b[39;49m\u001b[38;5;130;43;01m\\n\u001b[39;49;00m\u001b[38;5;124;43mhandle_\u001b[39;49m\u001b[38;5;132;43;01m%s\u001b[39;49;00m\u001b[38;5;124;43m args=\u001b[39;49m\u001b[38;5;132;43;01m%s\u001b[39;49;00m\u001b[38;5;124;43m\"\u001b[39;49m\u001b[38;5;241;43m%\u001b[39;49m\u001b[43m(\u001b[49m\u001b[43maction\u001b[49m\u001b[43m,\u001b[49m\u001b[43mascii\u001b[49m\u001b[43m(\u001b[49m\u001b[43margs\u001b[49m\u001b[43m)\u001b[49m\u001b[43m)\u001b[49m\u001b[43m)\u001b[49m\n",
      "File \u001b[0;32m~/anaconda3/lib/python3.9/site-packages/reportlab/lib/utils.py:1176\u001b[0m, in \u001b[0;36mannotateException\u001b[0;34m(msg, enc, postMsg, sep)\u001b[0m\n\u001b[1;32m   1174\u001b[0m \u001b[38;5;250m\u001b[39m\u001b[38;5;124;03m'''add msg to the args of an existing exception'''\u001b[39;00m\n\u001b[1;32m   1175\u001b[0m t,v,b\u001b[38;5;241m=\u001b[39msys\u001b[38;5;241m.\u001b[39mexc_info()\n\u001b[0;32m-> 1176\u001b[0m \u001b[43mrl_reraise\u001b[49m\u001b[43m(\u001b[49m\u001b[43mt\u001b[49m\u001b[43m,\u001b[49m\u001b[43mt\u001b[49m\u001b[43m(\u001b[49m\u001b[43msep\u001b[49m\u001b[38;5;241;43m.\u001b[39;49m\u001b[43mjoin\u001b[49m\u001b[43m(\u001b[49m\u001b[43m(\u001b[49m\u001b[43m_\u001b[49m\u001b[43m \u001b[49m\u001b[38;5;28;43;01mfor\u001b[39;49;00m\u001b[43m \u001b[49m\u001b[43m_\u001b[49m\u001b[43m \u001b[49m\u001b[38;5;129;43;01min\u001b[39;49;00m\u001b[43m \u001b[49m\u001b[43m(\u001b[49m\u001b[43mmsg\u001b[49m\u001b[43m,\u001b[49m\u001b[38;5;28;43mstr\u001b[39;49m\u001b[43m(\u001b[49m\u001b[43mv\u001b[49m\u001b[43m)\u001b[49m\u001b[43m,\u001b[49m\u001b[43mpostMsg\u001b[49m\u001b[43m)\u001b[49m\u001b[43m \u001b[49m\u001b[38;5;28;43;01mif\u001b[39;49;00m\u001b[43m \u001b[49m\u001b[43m_\u001b[49m\u001b[43m)\u001b[49m\u001b[43m)\u001b[49m\u001b[43m)\u001b[49m\u001b[43m,\u001b[49m\u001b[43mb\u001b[49m\u001b[43m)\u001b[49m\n",
      "File \u001b[0;32m~/anaconda3/lib/python3.9/site-packages/reportlab/lib/utils.py:138\u001b[0m, in \u001b[0;36mrl_reraise\u001b[0;34m(t, v, b)\u001b[0m\n\u001b[1;32m    136\u001b[0m \u001b[38;5;28;01mdef\u001b[39;00m \u001b[38;5;21mrl_reraise\u001b[39m(t, v, b\u001b[38;5;241m=\u001b[39m\u001b[38;5;28;01mNone\u001b[39;00m):\n\u001b[1;32m    137\u001b[0m     \u001b[38;5;28;01mif\u001b[39;00m v\u001b[38;5;241m.\u001b[39m__traceback__ \u001b[38;5;129;01mis\u001b[39;00m \u001b[38;5;129;01mnot\u001b[39;00m b:\n\u001b[0;32m--> 138\u001b[0m         \u001b[38;5;28;01mraise\u001b[39;00m v\u001b[38;5;241m.\u001b[39mwith_traceback(b)\n\u001b[1;32m    139\u001b[0m     \u001b[38;5;28;01mraise\u001b[39;00m v\n",
      "File \u001b[0;32m~/anaconda3/lib/python3.9/site-packages/reportlab/platypus/doctemplate.py:165\u001b[0m, in \u001b[0;36mActionFlowable.apply\u001b[0;34m(self, doc)\u001b[0m\n\u001b[1;32m    163\u001b[0m     \u001b[38;5;28;01mpass\u001b[39;00m\n\u001b[1;32m    164\u001b[0m \u001b[38;5;28;01mtry\u001b[39;00m:\n\u001b[0;32m--> 165\u001b[0m     \u001b[38;5;28;43mgetattr\u001b[39;49m\u001b[43m(\u001b[49m\u001b[43mdoc\u001b[49m\u001b[43m,\u001b[49m\u001b[43marn\u001b[49m\u001b[43m)\u001b[49m\u001b[43m(\u001b[49m\u001b[38;5;241;43m*\u001b[39;49m\u001b[43margs\u001b[49m\u001b[43m)\u001b[49m\n\u001b[1;32m    166\u001b[0m \u001b[38;5;28;01mexcept\u001b[39;00m \u001b[38;5;167;01mAttributeError\u001b[39;00m \u001b[38;5;28;01mas\u001b[39;00m aerr:\n\u001b[1;32m    167\u001b[0m     \u001b[38;5;28;01mif\u001b[39;00m aerr\u001b[38;5;241m.\u001b[39margs[\u001b[38;5;241m0\u001b[39m]\u001b[38;5;241m==\u001b[39marn:\n",
      "File \u001b[0;32m~/anaconda3/lib/python3.9/site-packages/reportlab/platypus/doctemplate.py:1297\u001b[0m, in \u001b[0;36mSimpleDocTemplate.handle_pageBegin\u001b[0;34m(self)\u001b[0m\n\u001b[1;32m   1294\u001b[0m \u001b[38;5;28;01mdef\u001b[39;00m \u001b[38;5;21mhandle_pageBegin\u001b[39m(\u001b[38;5;28mself\u001b[39m):\n\u001b[1;32m   1295\u001b[0m \u001b[38;5;250m    \u001b[39m\u001b[38;5;124;03m'''override base method to add a change of page template after the firstpage.\u001b[39;00m\n\u001b[1;32m   1296\u001b[0m \u001b[38;5;124;03m    '''\u001b[39;00m\n\u001b[0;32m-> 1297\u001b[0m     \u001b[38;5;28;43mself\u001b[39;49m\u001b[38;5;241;43m.\u001b[39;49m\u001b[43m_handle_pageBegin\u001b[49m\u001b[43m(\u001b[49m\u001b[43m)\u001b[49m\n\u001b[1;32m   1298\u001b[0m     \u001b[38;5;28mself\u001b[39m\u001b[38;5;241m.\u001b[39m_handle_nextPageTemplate(\u001b[38;5;124m'\u001b[39m\u001b[38;5;124mLater\u001b[39m\u001b[38;5;124m'\u001b[39m)\n",
      "File \u001b[0;32m~/anaconda3/lib/python3.9/site-packages/reportlab/platypus/doctemplate.py:628\u001b[0m, in \u001b[0;36mBaseDocTemplate.handle_pageBegin\u001b[0;34m(self)\u001b[0m\n\u001b[1;32m    626\u001b[0m \u001b[38;5;28;01mif\u001b[39;00m \u001b[38;5;28mhasattr\u001b[39m(\u001b[38;5;28mself\u001b[39m,\u001b[38;5;124m'\u001b[39m\u001b[38;5;124m_nextFrameIndex\u001b[39m\u001b[38;5;124m'\u001b[39m):\n\u001b[1;32m    627\u001b[0m     \u001b[38;5;28;01mdel\u001b[39;00m \u001b[38;5;28mself\u001b[39m\u001b[38;5;241m.\u001b[39m_nextFrameIndex\n\u001b[0;32m--> 628\u001b[0m \u001b[38;5;28mself\u001b[39m\u001b[38;5;241m.\u001b[39mframe \u001b[38;5;241m=\u001b[39m \u001b[38;5;28;43mself\u001b[39;49m\u001b[38;5;241;43m.\u001b[39;49m\u001b[43mpageTemplate\u001b[49m\u001b[38;5;241;43m.\u001b[39;49m\u001b[43mframes\u001b[49m\u001b[43m[\u001b[49m\u001b[38;5;241;43m0\u001b[39;49m\u001b[43m]\u001b[49m\n\u001b[1;32m    629\u001b[0m \u001b[38;5;28mself\u001b[39m\u001b[38;5;241m.\u001b[39mframe\u001b[38;5;241m.\u001b[39m_debug \u001b[38;5;241m=\u001b[39m \u001b[38;5;28mself\u001b[39m\u001b[38;5;241m.\u001b[39m_debug\n\u001b[1;32m    630\u001b[0m \u001b[38;5;28mself\u001b[39m\u001b[38;5;241m.\u001b[39mhandle_frameBegin(pageTopFlowables\u001b[38;5;241m=\u001b[39m\u001b[38;5;28mself\u001b[39m\u001b[38;5;241m.\u001b[39m_pageTopFlowables)\n",
      "\u001b[0;31mIndexError\u001b[0m: \nhandle_pageBegin args=() list index out of range"
     ]
    }
   ],
   "source": [
    "from reportlab.platypus import SimpleDocTemplate, Paragraph, PageTemplate, Frame,Spacer\n",
    "from reportlab.lib.styles import getSampleStyleSheet\n",
    "from reportlab.lib.pagesizes import A4\n",
    "from reportlab.lib.units import inch\n",
    "\n",
    "# Page layout function to handle frame-based content\n",
    "def page_layout(canvas, doc):\n",
    "    # Create multiple paragraphs with sample content\n",
    "    styles = getSampleStyleSheet()\n",
    "    text1 = \"\"\"This is the first paragraph, placed in Frame 1.\"\"\"\n",
    "    text2 = \"\"\"This is the second paragraph, placed in Frame 2.\"\"\"\n",
    "\n",
    "    paragraph1 = Paragraph(text1, styles['Normal'])\n",
    "    paragraph2 = Paragraph(text2, styles['Normal'])\n",
    "\n",
    "    # Create two frames at different positions on the page\n",
    "    frame1 = Frame(\n",
    "        x1=1 * inch,     # X coordinate from left for Frame 1\n",
    "        y1=1 * inch,     # Y coordinate from bottom for Frame 1\n",
    "        width=2 * inch,  # Width of content area for Frame 1\n",
    "        height=5 * inch  # Height of content area for Frame 1\n",
    "    )\n",
    "    \n",
    "    frame2 = Frame(\n",
    "        x1=4 * inch,     # X coordinate from left for Frame 2\n",
    "        y1=1 * inch,     # Y coordinate from bottom for Frame 2\n",
    "        width=2 * inch,  # Width of content area for Frame 2\n",
    "        height=5 * inch  # Height of content area for Frame 2\n",
    "    )\n",
    "\n",
    "    # Draw paragraphs in respective frames\n",
    "    frame1.addFromList([paragraph1], canvas)\n",
    "    frame2.addFromList([paragraph2], canvas)\n",
    "\n",
    "# Main document function\n",
    "def create_document():\n",
    "    doc = SimpleDocTemplate(\n",
    "        \"output.pdf\",\n",
    "        pagesize=A4,\n",
    "        leftMargin=0,\n",
    "        rightMargin=0,\n",
    "        topMargin=0,\n",
    "        bottomMargin=0\n",
    "    )\n",
    "\n",
    "    # Use a page template with a custom layout function\n",
    "    template = PageTemplate(onPage=page_layout)\n",
    "    doc.addPageTemplates(template)\n",
    "\n",
    "    # Build the document\n",
    "    \n",
    "    spacer = Spacer(1, 1)\n",
    "\n",
    "    # Build the document (the spacer will trigger the custom layout)\n",
    "    doc.build([spacer])\n",
    "    # doc.build([])\n",
    "\n",
    "create_document()\n"
   ]
  },
  {
   "cell_type": "markdown",
   "metadata": {},
   "source": [
    "# Working code and example this integarte"
   ]
  },
  {
   "cell_type": "code",
   "execution_count": 324,
   "metadata": {},
   "outputs": [
    {
     "name": "stdout",
     "output_type": "stream",
     "text": [
      "(595.2755905511812, 841.8897637795277)\n",
      "288.0 12 actual:  288.0 36.0\n",
      "144.0 96 actual:  144.0 360.0\n"
     ]
    }
   ],
   "source": [
    "from reportlab.platypus import SimpleDocTemplate, Paragraph, PageTemplate, Frame\n",
    "from reportlab.lib.styles import getSampleStyleSheet,ParagraphStyle\n",
    "from reportlab.lib.pagesizes import letter, A4\n",
    "from reportlab.lib.units import inch, mm\n",
    "# from reportlab.lib.styles import \n",
    "\n",
    "def create_document(c,text, x0,y0,width,height):\n",
    "\n",
    "\n",
    "    # Create multiple paragraphs\n",
    "    styles = getSampleStyleSheet()\n",
    "    \n",
    " \n",
    "    paragraph1 = Paragraph(text, styles['Normal'])\n",
    "    # paragraph2 = Paragraph(text2, yourStyle)\n",
    "    aw,ah = paragraph1.wrap(width,height)\n",
    "    print(aw,ah, \"actual: \",width,height)\n",
    "    frame1_flowables = [paragraph1]\n",
    "    # frame2_flowables = [paragraph2]\n",
    "    \n",
    "    # Create two frames at different positions on the page\n",
    "    frame1 = Frame(\n",
    "        x1=x0,     # X coordinate from left\n",
    "        y1=y0,     # Y coordinate from bottom\n",
    "        width=aw, # Width of content area\n",
    "        height=ah,   # Height of content area\n",
    "        leftPadding=0,\n",
    "        bottomPadding=0,\n",
    "        rightPadding=0,\n",
    "        topPadding=0,showBoundary=1\n",
    "        \n",
    "    )\n",
    "    \n",
    "    frame1.addFromList(frame1_flowables, c)\n",
    "    # frame2.addFromList(frame2_flowables, c)\n",
    "\n",
    "c  = canvas.Canvas('mydoc.pdf',pagesize=(595.27,841.89))\n",
    "\n",
    "# create two text and add it as paragrapsh with warping\n",
    "\n",
    "text1 = \"\"\"This is the ficccc so paragraph, placed in frame 1.\"\"\"\n",
    "text2 = \"\"\"This is the second ragrmmmoooooooooooooooooooooooooooooooo0000ppppppppppaph nn nnn nn nsdd dd dd dddd snd dd dddd dd  dc  dnn nnn dddddd snd ddd dddd ddd dddd sdnn nnnn dssks ddkad nnn nnh, placed in frame so 2.\"\"\"\n",
    "   \n",
    "create_document(c,text1, 0,0,4*inch,0.5*inch)\n",
    "create_document(c,text2, 2*inch,2*inch,2*inch,5*inch)\n",
    "\n",
    "c.save()\n"
   ]
  },
  {
   "cell_type": "code",
   "execution_count": null,
   "metadata": {},
   "outputs": [],
   "source": []
  }
 ],
 "metadata": {
  "kernelspec": {
   "display_name": "base",
   "language": "python",
   "name": "python3"
  },
  "language_info": {
   "codemirror_mode": {
    "name": "ipython",
    "version": 3
   },
   "file_extension": ".py",
   "mimetype": "text/x-python",
   "name": "python",
   "nbconvert_exporter": "python",
   "pygments_lexer": "ipython3",
   "version": "3.9.12"
  }
 },
 "nbformat": 4,
 "nbformat_minor": 2
}
